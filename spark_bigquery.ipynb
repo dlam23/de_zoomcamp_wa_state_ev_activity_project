{
 "cells": [
  {
   "cell_type": "code",
   "execution_count": 1,
   "id": "3307b886",
   "metadata": {},
   "outputs": [],
   "source": [
    "import pyspark\n",
    "from pyspark.sql import SparkSession\n",
    "from pyspark.sql.functions import col, max\n",
    "from pyspark.conf import SparkConf\n",
    "from pyspark.context import SparkContext"
   ]
  },
  {
   "cell_type": "code",
   "execution_count": 4,
   "id": "c4713e2b",
   "metadata": {},
   "outputs": [],
   "source": [
    "spark = SparkSession.builder \\\n",
    "    .appName('test') \\\n",
    "    .getOrCreate()\n",
    "\n",
    "spark.conf.set('temporaryGcsBucket', 'dataproc-temp-us-west1-488096447297-kpwrpixn')"
   ]
  },
  {
   "cell_type": "code",
   "execution_count": 5,
   "id": "1ee1eb1d",
   "metadata": {},
   "outputs": [
    {
     "name": "stderr",
     "output_type": "stream",
     "text": [
      "                                                                                \r"
     ]
    }
   ],
   "source": [
    "bucket = \"staging-bucket-galvanic-crow-412709\"\n",
    "directory = \"wa_state_ev_activity_data\"\n",
    "df = spark.read.option(\"basePath\", \"gs://{}/{}\".format(bucket, directory)) \\\n",
    "    .parquet(\"gs://{}/{}\".format(bucket, directory))"
   ]
  },
  {
   "cell_type": "code",
   "execution_count": 7,
   "id": "104b40ab",
   "metadata": {},
   "outputs": [
    {
     "name": "stderr",
     "output_type": "stream",
     "text": [
      "                                                                                \r"
     ]
    },
    {
     "data": {
      "text/plain": [
       "2304517"
      ]
     },
     "execution_count": 7,
     "metadata": {},
     "output_type": "execute_result"
    }
   ],
   "source": [
    "df = df.drop(\n",
    "    \"vin_1_10\",\n",
    "    \"electric_range\",\n",
    "    \"odometer_reading\",\n",
    "    \"odometer_code\",\n",
    "    \"sale_price\",\n",
    "    \"date_of_vehicle_sale\",\n",
    "    \"base_msrp\",\n",
    "    \"meets_2019_hb_2042_sale_price_value_requirement\",\n",
    "    \"_2019_hb_2042_sale_price_value_requirement\",\n",
    "    \"electric_vehicle_fee_paid\",\n",
    "    \"transportation_electrification_fee_paid\",\n",
    "    \"hybrid_vehicle_electrification_fee_paid\",\n",
    "    \"census_tract_2020\",\n",
    "    \"legislative_district\",\n",
    "    \"electric_utility\"\n",
    ")   "
   ]
  },
  {
   "cell_type": "code",
   "execution_count": null,
   "id": "e26467e7",
   "metadata": {},
   "outputs": [],
   "source": [
    "# Determine the latest partition date\n",
    "latest_partition_date = df.select(max(col(\"transaction_date\"))).collect()[0][0]\n",
    "\n",
    "# Filter the DataFrame to keep only the data from the latest partition\n",
    "latest_partition_df = df.filter(col(\"transaction_date\") == latest_partition_date)"
   ]
  },
  {
   "cell_type": "code",
   "execution_count": null,
   "id": "f56a885d",
   "metadata": {},
   "outputs": [],
   "source": [
    "latest_partition_df.createOrReplaceTempView(\"ev\")\n",
    "\n",
    "df_result = spark.sql(\"\"\"\n",
    "    SELECT transaction_date,\n",
    "    transaction_year,\n",
    "    transaction_type,\n",
    "    electric_vehicle_type,\n",
    "    model_year,\n",
    "    make,\n",
    "    model,\n",
    "    vehicle_primary_use,\n",
    "    new_or_used_vehicle,\n",
    "    county,\n",
    "    city,\n",
    "    state_of_residence AS state,\n",
    "    zip,\n",
    "    COUNT(DISTINCT dol_vehicle_id) AS vehicle_registration_count\n",
    "    FROM ev\n",
    "    GROUP BY transaction_date,\n",
    "    transaction_year,\n",
    "    transaction_type,\n",
    "    electric_vehicle_type,\n",
    "    model_year,\n",
    "    make,\n",
    "    model,\n",
    "    vehicle_primary_use,\n",
    "    new_or_used_vehicle,\n",
    "    county,\n",
    "    city,\n",
    "    state_of_residence,\n",
    "    zip\n",
    "\"\"\")"
   ]
  },
  {
   "cell_type": "code",
   "execution_count": null,
   "id": "cecd0370",
   "metadata": {},
   "outputs": [],
   "source": [
    "df_result.write \\\n",
    "    .format('bigquery') \\\n",
    "    .option('table', \"wa_state_ev_activity_dataset.data\") \\\n",
    "    .option('partitionField', 'transaction_date') \\\n",
    "    .option('partitionType', 'DAY') \\\n",
    "    .mode('append') \\\n",
    "    .save()"
   ]
  }
 ],
 "metadata": {
  "kernelspec": {
   "display_name": "Python 3 (ipykernel)",
   "language": "python",
   "name": "python3"
  },
  "language_info": {
   "codemirror_mode": {
    "name": "ipython",
    "version": 3
   },
   "file_extension": ".py",
   "mimetype": "text/x-python",
   "name": "python",
   "nbconvert_exporter": "python",
   "pygments_lexer": "ipython3",
   "version": "3.9.7"
  }
 },
 "nbformat": 4,
 "nbformat_minor": 5
}
